{
 "cells": [
  {
   "cell_type": "code",
   "execution_count": 2,
   "metadata": {},
   "outputs": [
    {
     "name": "stdout",
     "output_type": "stream",
     "text": [
      "{'entity_list': ['Hitit Üniversitesi', 'Stanford üniversitesi'], 'results': [{'entity': 'Hitit Üniversitesi', 'sentiment': 'olumlu'}, {'entity': 'Stanford üniversitesi', 'sentiment': 'notr'}]}\n"
     ]
    }
   ],
   "source": [
    "import requests\n",
    "url = \"http://127.0.0.1:7552/predict/\"\n",
    "# Gönderilecek veri\n",
    "data = {\n",
    "    \"text\": \"\"\"Hitit Üniversitesi harika! Stanford üniversitesi ise eh işte :)\"\"\"\n",
    "}\n",
    "# POST isteği gönderme\n",
    "response = requests.post(url, json=data)\n",
    "# Yanıtı yazdırma\n",
    "if response.status_code == 200:\n",
    "    print(response.json())\n",
    "else:\n",
    "    print(f\"Error: {response.status_code}\")"
   ]
  }
 ],
 "metadata": {
  "kernelspec": {
   "display_name": "Python 3",
   "language": "python",
   "name": "python3"
  },
  "language_info": {
   "codemirror_mode": {
    "name": "ipython",
    "version": 3
   },
   "file_extension": ".py",
   "mimetype": "text/x-python",
   "name": "python",
   "nbconvert_exporter": "python",
   "pygments_lexer": "ipython3",
   "version": "3.12.4"
  }
 },
 "nbformat": 4,
 "nbformat_minor": 2
}
